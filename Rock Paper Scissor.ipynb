{
 "cells": [
  {
   "cell_type": "markdown",
   "metadata": {},
   "source": [
    "# Rock Paper and Scissor\n"
   ]
  },
  {
   "cell_type": "code",
   "execution_count": 28,
   "metadata": {},
   "outputs": [
    {
     "name": "stdout",
     "output_type": "stream",
     "text": [
      "Player1 please enter your choice {Rock, Paper, Scissor} :Scissor\n",
      "Player2 please enter your choice {Rock, Paper, Scissor} :paper\n",
      "\n",
      "\n",
      "*\t*\t*\t*\t*\t*\t*\t*\t\n",
      "Player1 selected : scissor and Player2 selected : paper\n",
      "Player1 wins this Game\n"
     ]
    }
   ],
   "source": [
    "player1 = input(\"Player1 please enter your choice {Rock, Paper, Scissor} :\")\n",
    "player2 = input(\"Player2 please enter your choice {Rock, Paper, Scissor} :\")\n",
    "player1=player1.lower()\n",
    "player2=player2.lower()\n",
    "print(\"\\n\")\n",
    "print(\"*\\t\"*8)\n",
    "if player1==player2:\n",
    "    print(\"Both player1 and player2 selected {player1}\".format(player1=player1))\n",
    "    print(\"This game is a Draw\")\n",
    "elif player1==\"rock\" and player2==\"paper\":\n",
    "    print(\"Player1 selected : {player1} and Player2 selected : {player2}\".format(player1=player1,player2=player2))\n",
    "    print(\"Player2 wins this Game\")\n",
    "elif player1==\"rock\" and player2==\"scissor\":\n",
    "    print(\"Player1 selected : {player1} and Player2 selected : {player2}\".format(player1=player1,player2=player2))\n",
    "    print(\"Player1 wins this Game\")\n",
    "elif player1==\"paper\" and player2==\"scissor\":\n",
    "    print(\"Player1 selected : {player1} and Player2 selected : {player2}\".format(player1=player1,player2=player2))\n",
    "    print(\"Player2 wins this Game\")\n",
    "elif player1==\"paper\" and player2==\"rock\":\n",
    "    print(\"Player1 selected : {player1} and Player2 selected : {player2}\".format(player1=player1,player2=player2))\n",
    "    print(\"Player1 wins this Game\")\n",
    "elif player1==\"scissor\" and player2==\"rock\":\n",
    "    print(\"Player1 selected : {player1} and Player2 selected : {player2}\".format(player1=player1,player2=player2))\n",
    "    print(\"Player2 wins this Game\")\n",
    "elif player1==\"scissor\" and player2==\"paper\":\n",
    "    print(\"Player1 selected : {player1} and Player2 selected : {player2}\".format(player1=player1,player2=player2))\n",
    "    print(\"Player1 wins this Game\")\n",
    "else:\n",
    "    print(\"Please check the input that you have entered\")\n",
    "    \n",
    "\n",
    "    \n",
    "    \n",
    "    "
   ]
  },
  {
   "cell_type": "code",
   "execution_count": null,
   "metadata": {},
   "outputs": [],
   "source": []
  },
  {
   "cell_type": "code",
   "execution_count": null,
   "metadata": {},
   "outputs": [],
   "source": []
  }
 ],
 "metadata": {
  "kernelspec": {
   "display_name": "Python 3",
   "language": "python",
   "name": "python3"
  },
  "language_info": {
   "codemirror_mode": {
    "name": "ipython",
    "version": 3
   },
   "file_extension": ".py",
   "mimetype": "text/x-python",
   "name": "python",
   "nbconvert_exporter": "python",
   "pygments_lexer": "ipython3",
   "version": "3.8.5"
  }
 },
 "nbformat": 4,
 "nbformat_minor": 4
}
